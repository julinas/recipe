{
 "cells": [
  {
   "cell_type": "code",
   "execution_count": null,
   "metadata": {
    "collapsed": true
   },
   "outputs": [],
   "source": [
    "import urllib as urllib2\n",
    "from bs4 import BeautifulSoup\n",
    "from pymongo import MongoClient\n",
    "\n",
    "import warnings\n",
    "warnings.filterwarnings(\"ignore\")"
   ]
  },
  {
   "cell_type": "code",
   "execution_count": 2,
   "metadata": {
    "collapsed": true
   },
   "outputs": [],
   "source": [
    "client = MongoClient()\n",
    "db = client.recipe_db\n",
    "recipes = db.recipes\n",
    "\n",
    "domain_url_root = \"https://www.epicurious.com\""
   ]
  },
  {
   "cell_type": "code",
   "execution_count": null,
   "metadata": {
    "collapsed": true
   },
   "outputs": [],
   "source": [
    "def fetch_url(url):\n",
    "    try:\n",
    "        page = urllib2.urlopen(url)\n",
    "        return page\n",
    "    except:\n",
    "        return None"
   ]
  },
  {
   "cell_type": "code",
   "execution_count": null,
   "metadata": {
    "collapsed": true
   },
   "outputs": [],
   "source": [
    "def get_links(page): # epicurious search results page\n",
    "    soup = BeautifulSoup(page, 'html.parser')\n",
    "    links = soup.select(\".recipe-panel .view-complete-item\")\n",
    "    urls = []\n",
    "    for link in links:\n",
    "        url = link[\"href\"]\n",
    "        urls.append(url)\n",
    "    return urls"
   ]
  },
  {
   "cell_type": "code",
   "execution_count": null,
   "metadata": {
    "collapsed": true
   },
   "outputs": [],
   "source": [
    "def get_links_list():\n",
    "    list_results_url_root = \"https://www.epicurious.com/search?content=recipe&sort=mostReviewed&special-consideration=quick-and-easy&page=\"\n",
    "    global links_list\n",
    "    for i in range(1, 534):\n",
    "        list_results_page = fetch_url(start_url + str(i))\n",
    "        links = get_links(list_results_page)\n",
    "        links_list = links_list + links"
   ]
  },
  {
   "cell_type": "code",
   "execution_count": 5,
   "metadata": {
    "collapsed": true
   },
   "outputs": [],
   "source": [
    "def clear_db():\n",
    "    recipes.remove()"
   ]
  },
  {
   "cell_type": "code",
   "execution_count": null,
   "metadata": {
    "collapsed": true
   },
   "outputs": [],
   "source": [
    "def save_recipe(recipe, db=recipes):\n",
    "    db.insert_one(recipe)\n",
    "\n",
    "def save_recipes(recipe_list, db=recipes):\n",
    "    db.insert_many(recipe_list)"
   ]
  },
  {
   "cell_type": "code",
   "execution_count": 11,
   "metadata": {
    "collapsed": true
   },
   "outputs": [],
   "source": [
    "def mark_get_again(source):\n",
    "    recipes.update({\n",
    "            'source': source\n",
    "        }, {\n",
    "            '$set': {\n",
    "                'get_again': 1\n",
    "            }\n",
    "        })\n",
    "    \n",
    "def mark_get_again_match(match):\n",
    "    recipes.update(match, \n",
    "        {\n",
    "            '$set': {\n",
    "                'get_again': 1\n",
    "            }    \n",
    "        })"
   ]
  }
 ],
 "metadata": {
  "kernelspec": {
   "display_name": "Python 3",
   "language": "python",
   "name": "python3"
  },
  "language_info": {
   "codemirror_mode": {
    "name": "ipython",
    "version": 3
   },
   "file_extension": ".py",
   "mimetype": "text/x-python",
   "name": "python",
   "nbconvert_exporter": "python",
   "pygments_lexer": "ipython3",
   "version": "3.7.3"
  }
 },
 "nbformat": 4,
 "nbformat_minor": 2
}
