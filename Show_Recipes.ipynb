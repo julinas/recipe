{
 "cells": [
  {
   "cell_type": "code",
   "execution_count": 9,
   "metadata": {
    "collapsed": false
   },
   "outputs": [],
   "source": [
    "from IPython.display import Image, display\n",
    "%matplotlib inline\n",
    "from networkx.readwrite import json_graph\n",
    "import graphviz as gv\n",
    "\n",
    "import warnings\n",
    "warnings.filterwarnings(\"ignore\")"
   ]
  },
  {
   "cell_type": "code",
   "execution_count": 10,
   "metadata": {
    "collapsed": false
   },
   "outputs": [],
   "source": [
    "styles = {\n",
    "    'graph': {\n",
    "        'fontsize': '16',\n",
    "        'fontcolor': 'black',\n",
    "        'bgcolor': '#ffffff',\n",
    "    },\n",
    "    'nodes': {\n",
    "        'fontname': 'Helvetica',\n",
    "        'shape': 'Mdiamond',\n",
    "        'fontcolor': '#78909C',\n",
    "        'color': 'white',\n",
    "        'style': 'filled',\n",
    "        'fillcolor': '#ECEFF1',\n",
    "    },\n",
    "    'edges': {\n",
    "        'style': 'solid',\n",
    "        'color': 'black',\n",
    "        'arrowhead': 'open',\n",
    "        'fontname': 'Helvetica',\n",
    "        'fontsize': '12',\n",
    "        'fontcolor': '#78909C',\n",
    "    }\n",
    "}"
   ]
  },
  {
   "cell_type": "code",
   "execution_count": 11,
   "metadata": {
    "collapsed": true
   },
   "outputs": [],
   "source": [
    "def apply_styles(g, styles):\n",
    "    g.graph_attr.update(\n",
    "        styles['graph']\n",
    "    )\n",
    "    g.node_attr.update(\n",
    "        ('nodes' in styles and styles['nodes']) or {}\n",
    "    )\n",
    "    g.edge_attr.update(\n",
    "        ('edges' in styles and styles['edges']) or {}\n",
    "    )\n",
    "    return g"
   ]
  },
  {
   "cell_type": "code",
   "execution_count": 29,
   "metadata": {
    "collapsed": false
   },
   "outputs": [],
   "source": [
    "def save_graph(recipe, directory=\"./recipe_graphs\"):\n",
    "    g = json_graph.node_link_graph(recipe[\"steps\"])\n",
    "    G = gv.Digraph(format='png', graph_attr={'label': recipe[\"title\"]})\n",
    "    nodes = g.nodes(data=True)\n",
    "    \n",
    "    for node in nodes:\n",
    "        t = node[1][\"type\"]\n",
    "        name = node[1][\"label\"]\n",
    "        if t == \"heat\":\n",
    "            if name == \"very high\":\n",
    "                G.node(str(node[0]), name + \" heat\", fontcolor='#263238', fillcolor='#FF5542', shape='diamond')\n",
    "            elif name == \"high\":\n",
    "                G.node(str(node[0]), name + \" heat\", fontcolor='#263238', fillcolor='#FF7043', shape='diamond')\n",
    "            elif name == \"medium\":\n",
    "                G.node(str(node[0]), name + \" heat\", fontcolor='#263238', fillcolor='#FFA726', shape='diamond')\n",
    "            elif name == \"low\":\n",
    "                G.node(str(node[0]), name + \" heat\", fontcolor='#263238', fillcolor='#FFCA28', shape='diamond')\n",
    "            elif name == \"no\":\n",
    "                G.node(str(node[0]), name + \" heat\", fontcolor='#212121', fillcolor='#90A4AE', shape='diamond')\n",
    "        elif t == \"ingredient\":\n",
    "            descript = recipe[\"ingredients\"][name][\"descript\"]\n",
    "            label = \"\"\n",
    "            for d in descript:\n",
    "                label += d + \"\\n\"\n",
    "            label += name\n",
    "            G.node(str(node[0]), label)\n",
    "        elif t == \"done\":\n",
    "            G.node(str(node[0]), name, fontcolor='black', fillcolor='#66BB6A', shape='egg')\n",
    "    \n",
    "    for edge in g.edges():\n",
    "        for node in nodes:\n",
    "            if node[0] == edge[0]:\n",
    "                if node[1][\"type\"] == \"ingredient\":\n",
    "                    name = node[1][\"label\"]\n",
    "                    ingredient = recipe['ingredients'][name]\n",
    "                    amount = \"\"\n",
    "                    if ingredient['amount'] > 0:\n",
    "                        amount += \"%(amt).1f\" % {'amt': ingredient['amount']}\n",
    "                        if ingredient['unit'] != None:\n",
    "                            amount += \" %(unit)s\" % {'unit': ingredient['unit']}\n",
    "                    if amount != \"\":\n",
    "                        nodeID = \"%(name)s amt\" % {'name': name}\n",
    "                        G.node(nodeID, amount, shape='ellipse')\n",
    "                        G.edge(nodeID, str(edge[0]), style='dashed', arrowhead='none')\n",
    "        G.edge(str(edge[0]), str(edge[1]))\n",
    "        \n",
    "    G = apply_styles(G, styles)\n",
    "            \n",
    "    filename = \"%(directory)s/%(title)s\" % {'directory': directory, 'title': recipe[\"title\"].strip()} # format type=png set above\n",
    "    G.render(filename=filename, cleanup=True)\n",
    "    return filename + \".png\""
   ]
  },
  {
   "cell_type": "code",
   "execution_count": 13,
   "metadata": {
    "collapsed": true
   },
   "outputs": [],
   "source": [
    "def show_graph(path):    \n",
    "    display(Image(filename=path))"
   ]
  },
  {
   "cell_type": "code",
   "execution_count": null,
   "metadata": {
    "collapsed": true
   },
   "outputs": [],
   "source": [
    "def prettyprint_recipe(recipe): #TODO\n",
    "    #generate text\n",
    "    #generate title\n",
    "    pass"
   ]
  }
 ],
 "metadata": {
  "kernelspec": {
   "display_name": "Python 2",
   "language": "python",
   "name": "python2"
  },
  "language_info": {
   "codemirror_mode": {
    "name": "ipython",
    "version": 2
   },
   "file_extension": ".py",
   "mimetype": "text/x-python",
   "name": "python",
   "nbconvert_exporter": "python",
   "pygments_lexer": "ipython2",
   "version": "2.7.10"
  }
 },
 "nbformat": 4,
 "nbformat_minor": 2
}
