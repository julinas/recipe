{
 "cells": [
  {
   "cell_type": "code",
   "execution_count": 10,
   "metadata": {
    "collapsed": true
   },
   "outputs": [],
   "source": [
    "# limitations:\n",
    "# not dealing with multi-thread cooking\n",
    "# not dealing with size of pieces of ingredients\n",
    "# not dealing with time (feature?)\n",
    "# ignores repeated ingredients (such as garnish; but could be problematic with things like risotto)\n",
    "# ignores baking (chemistry has lower tolerance for different ratios)\n",
    "\n",
    "import warnings\n",
    "warnings.filterwarnings(\"ignore\")"
   ]
  },
  {
   "cell_type": "code",
   "execution_count": 11,
   "metadata": {},
   "outputs": [],
   "source": [
    "%run \"./Parse_Recipes.ipynb\""
   ]
  },
  {
   "cell_type": "code",
   "execution_count": 12,
   "metadata": {
    "collapsed": true
   },
   "outputs": [],
   "source": [
    "# links_list = []"
   ]
  },
  {
   "cell_type": "code",
   "execution_count": 13,
   "metadata": {
    "collapsed": true
   },
   "outputs": [],
   "source": [
    "failed_recipes = []"
   ]
  },
  {
   "cell_type": "code",
   "execution_count": 14,
   "metadata": {
    "collapsed": true
   },
   "outputs": [],
   "source": [
    "%store -r links_list\n",
    "%store -r failed_recipes"
   ]
  },
  {
   "cell_type": "code",
   "execution_count": 15,
   "metadata": {
    "collapsed": true
   },
   "outputs": [],
   "source": [
    "recipe_list = []"
   ]
  },
  {
   "cell_type": "code",
   "execution_count": 17,
   "metadata": {
    "collapsed": true
   },
   "outputs": [],
   "source": [
    "# clear_db()"
   ]
  },
  {
   "cell_type": "code",
   "execution_count": null,
   "metadata": {
    "collapsed": true
   },
   "outputs": [],
   "source": [
    "for i in range(len(links_list)):\n",
    "    if i % 50 == 0:\n",
    "        print \"%(i)i finished\" %{'i': i}\n",
    "        if len(recipe_list) > 0:\n",
    "            save_recipes(recipe_list)\n",
    "            recipe_list = []\n",
    "    try:\n",
    "        new_recipe = make_formatted_recipe(domain_url_root + links_list[i])\n",
    "        recipe_list.append(new_recipe)\n",
    "    except:\n",
    "        print \"failed\"\n",
    "        failed_recipes.append(i)"
   ]
  }
 ],
 "metadata": {
  "kernelspec": {
   "display_name": "Python 3",
   "language": "python",
   "name": "python3"
  },
  "language_info": {
   "codemirror_mode": {
    "name": "ipython",
    "version": 3
   },
   "file_extension": ".py",
   "mimetype": "text/x-python",
   "name": "python",
   "nbconvert_exporter": "python",
   "pygments_lexer": "ipython3",
   "version": "3.7.3"
  }
 },
 "nbformat": 4,
 "nbformat_minor": 2
}
